{
 "cells": [
  {
   "cell_type": "markdown",
   "metadata": {},
   "source": [
    "# Part III: Analysing results and comparing algorithms"
   ]
  },
  {
   "cell_type": "markdown",
   "metadata": {},
   "source": [
    "## Imports"
   ]
  },
  {
   "cell_type": "code",
   "execution_count": 1,
   "metadata": {},
   "outputs": [],
   "source": [
    "import pandas as pd\n",
    "from random import randint\n",
    "import numpy as np\n",
    "import matplotlib.pyplot as plt\n",
    "from numpy import std"
   ]
  },
  {
   "cell_type": "markdown",
   "metadata": {},
   "source": [
    "## Functions"
   ]
  },
  {
   "cell_type": "code",
   "execution_count": 2,
   "metadata": {},
   "outputs": [],
   "source": [
    "# Compute the accuracy given the predicted and true values.\n",
    "# pred: DataFrame with predicted values\n",
    "# true: DataFrame with true values\n",
    "#\n",
    "# Returns the accuracy.\n",
    "def accuracy(pred, true):\n",
    "    correct = 0\n",
    "    n = len(pred)\n",
    "\n",
    "    for p, t in zip(pred, true):\n",
    "        if (p == t): correct = correct + 1\n",
    "\n",
    "    return correct / n\n",
    "\n",
    "# Compute the accuracies of each round.\n",
    "# pred: DataFrame with predicted values\n",
    "# true: DataFrame with true values\n",
    "#\n",
    "# Return:\n",
    "# acc: list of accuracies of each round.\n",
    "def all_accuracies(pred, true):\n",
    "    acc = np.empty(pred.shape[0])\n",
    "\n",
    "    for i in range(0, pred.shape[0]):\n",
    "        acc[i] = accuracy(pred.iloc[i, :], true.iloc[i, :])\n",
    "    return acc"
   ]
  },
  {
   "cell_type": "markdown",
   "metadata": {},
   "source": [
    "## Loading the results"
   ]
  },
  {
   "cell_type": "code",
   "execution_count": 3,
   "metadata": {},
   "outputs": [],
   "source": [
    "# Naïve Bayes\n",
    "pred_rounds_bayes = pd.read_csv('pred_rounds_bayes.csv', index_col=0)\n",
    "true_rounds_bayes = pd.read_csv('true_rounds_bayes.csv', index_col=0)\n",
    "\n",
    "# Perceptron\n",
    "pred_rounds_perceptron = pd.read_csv('pred_rounds_perceptron.csv', index_col=0)\n",
    "true_rounds_perceptron = pd.read_csv('true_rounds_perceptron.csv', index_col=0)\n",
    "\n",
    "# Decision tree\n",
    "pred_rounds_dt = pd.read_csv('pred_rounds_dt.csv', index_col=0)\n",
    "true_rounds_dt = pd.read_csv('true_rounds_dt.csv', index_col=0)\n",
    "\n",
    "# 3NN\n",
    "pred_rounds_3nn = pd.read_csv('pred_rounds_3nn.csv', index_col=0)\n",
    "true_rounds_3nn = pd.read_csv('true_rounds_3nn.csv', index_col=0)\n",
    "\n",
    "# 5NN\n",
    "pred_rounds_5nn = pd.read_csv('pred_rounds_5nn.csv', index_col=0)\n",
    "true_rounds_5nn = pd.read_csv('true_rounds_5nn.csv', index_col=0)\n",
    "\n",
    "# 7NN\n",
    "pred_rounds_7nn = pd.read_csv('pred_rounds_7nn.csv', index_col=0)\n",
    "true_rounds_7nn = pd.read_csv('true_rounds_7nn.csv', index_col=0)"
   ]
  },
  {
   "cell_type": "markdown",
   "metadata": {},
   "source": [
    "## Calculating accuracies"
   ]
  },
  {
   "cell_type": "code",
   "execution_count": 4,
   "metadata": {},
   "outputs": [
    {
     "name": "stdout",
     "output_type": "stream",
     "text": [
      "Bayes          [0.6034 0.7414 0.7241 0.7759 0.4828 0.7241 0.6724 0.7586 0.6034 0.6552]\n",
      "Perceptron     [0.9655 0.9828 0.9483 0.9828 0.9655 0.9828 0.9655 0.9655 0.9655 0.9655]\n",
      "Decision Tree  [0.9828 0.9655 0.9138 0.9483 0.9483 0.9483 0.931  0.9138 0.9138 0.931 ]\n",
      "3NN            [0.9483 0.9655 0.9828 1.     0.9655 0.9828 0.9655 0.9483 0.9655 0.931 ]\n",
      "5NN            [0.9483 0.9655 0.9655 0.9655 0.9483 0.9828 0.9828 0.9483 0.9655 0.9138]\n",
      "7NN            [0.931  0.9655 0.9655 0.9655 0.9483 0.9828 0.9655 0.9483 0.9655 0.8966]\n"
     ]
    }
   ],
   "source": [
    "bayes = all_accuracies(pred_rounds_bayes, true_rounds_bayes)\n",
    "perceptron = all_accuracies(pred_rounds_perceptron, true_rounds_perceptron)\n",
    "dt = all_accuracies(pred_rounds_dt, true_rounds_dt)\n",
    "_3nn = all_accuracies(pred_rounds_3nn, true_rounds_3nn)\n",
    "_5nn = all_accuracies(pred_rounds_5nn, true_rounds_5nn)\n",
    "_7nn = all_accuracies(pred_rounds_7nn, true_rounds_7nn)\n",
    "\n",
    "# Changing print precision to 4 decimal points\n",
    "np.set_printoptions(precision=4)\n",
    "\n",
    "print(\"{0:14} {1}\".format(\"Bayes\", bayes))\n",
    "print(\"{0:14} {1}\".format(\"Perceptron\", perceptron))\n",
    "print(\"{0:14} {1}\".format(\"Decision Tree\", dt))\n",
    "print(\"{0:14} {1}\".format(\"3NN\", _3nn))\n",
    "print(\"{0:14} {1}\".format(\"5NN\", _5nn))\n",
    "print(\"{0:14} {1}\".format(\"7NN\", _7nn))\n"
   ]
  },
  {
   "cell_type": "markdown",
   "metadata": {},
   "source": [
    "## Choosing the best round of each algorithm"
   ]
  },
  {
   "cell_type": "code",
   "execution_count": 5,
   "metadata": {},
   "outputs": [
    {
     "name": "stdout",
     "output_type": "stream",
     "text": [
      "Bayes           0.7759\n",
      "Perceptron      0.9828\n",
      "Decision Tree   0.9828\n",
      "3NN             1.0000\n",
      "5NN             0.9828\n",
      "7NN             0.9828\n"
     ]
    }
   ],
   "source": [
    "bayes_max = max(range(len(bayes)), key=bayes.__getitem__)\n",
    "\n",
    "perceptron_max = max(range(len(perceptron)), key=perceptron.__getitem__)\n",
    "\n",
    "dt_max = max(range(len(dt)), key=dt.__getitem__)\n",
    "\n",
    "_3nn_max = max(range(len(_3nn)), key=_3nn.__getitem__)\n",
    "\n",
    "_5nn_max = max(range(len(_5nn)), key=_5nn.__getitem__)\n",
    "\n",
    "_7nn_max = max(range(len(_7nn)), key=_7nn.__getitem__)\n",
    "\n",
    "print(\"{0:14} {1:7.4f}\".format(\"Bayes\", bayes[bayes_max]))\n",
    "print(\"{0:14} {1:7.4f}\".format(\"Perceptron\", perceptron[perceptron_max]))\n",
    "print(\"{0:14} {1:7.4f}\".format(\"Decision Tree\", dt[dt_max]))\n",
    "print(\"{0:14} {1:7.4f}\".format(\"3NN\", _3nn[_3nn_max]))\n",
    "print(\"{0:14} {1:7.4f}\".format(\"5NN\", _5nn[_5nn_max]))\n",
    "print(\"{0:14} {1:7.4f}\".format(\"7NN\", _7nn[_7nn_max]))"
   ]
  },
  {
   "cell_type": "markdown",
   "metadata": {},
   "source": [
    "## Results"
   ]
  },
  {
   "cell_type": "code",
   "execution_count": 6,
   "metadata": {},
   "outputs": [
    {
     "data": {
      "image/png": "[encoded data removed]",
      "text/plain": [
       "<Figure size 432x288 with 1 Axes>"
      ]
     },
     "metadata": {
      "needs_background": "light"
     },
     "output_type": "display_data"
    }
   ],
   "source": [
    "x = ['Naïve Bayes', 'Perceptron', 'Decision Tree', '3NN', '5NN', '7NN']\n",
    "y = [bayes[bayes_max], perceptron[perceptron_max], dt[dt_max], _3nn[_3nn_max], _5nn[_5nn_max], _7nn[_7nn_max]]\n",
    "results = [bayes, perceptron, dt, _3nn, _5nn, _7nn]\n",
    "\n",
    "plt.bar(x, y, width=1/2, yerr=[std(results[i]) for i in range(0, 6)])\n",
    "plt.xticks(rotation=45)\n",
    "plt.title(\"Accuracy per algorithm\")\n",
    "plt.show()"
   ]
  }
 ],
 "metadata": {
  "kernelspec": {
   "display_name": "Python 3",
   "language": "python",
   "name": "python3"
  },
  "language_info": {
   "codemirror_mode": {
    "name": "ipython",
    "version": 3
   },
   "file_extension": ".py",
   "mimetype": "text/x-python",
   "name": "python",
   "nbconvert_exporter": "python",
   "pygments_lexer": "ipython3",
   "version": "3.7.0"
  }
 },
 "nbformat": 4,
 "nbformat_minor": 2
}
